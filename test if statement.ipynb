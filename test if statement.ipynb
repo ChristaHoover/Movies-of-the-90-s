{
 "cells": [
  {
   "cell_type": "code",
   "execution_count": 1,
   "id": "6368142b",
   "metadata": {},
   "outputs": [],
   "source": [
    "import pandas as pd\n",
    "import numpy as np\n",
    "import requests\n",
    "from bs4 import BeautifulSoup\n",
    "from time import sleep\n",
    "from random import randint"
   ]
  },
  {
   "cell_type": "code",
   "execution_count": 2,
   "id": "33420cb8",
   "metadata": {},
   "outputs": [],
   "source": [
    "headers = {\"Accespt-Language\": \"en-US,en;q=0.5\"}"
   ]
  },
  {
   "cell_type": "code",
   "execution_count": 5,
   "id": "fee4d532",
   "metadata": {},
   "outputs": [],
   "source": [
    "pages = np.arange(1,500,50)"
   ]
  },
  {
   "cell_type": "code",
   "execution_count": 7,
   "id": "5b7f9e5e",
   "metadata": {},
   "outputs": [
    {
     "ename": "IndexError",
     "evalue": "list index out of range",
     "output_type": "error",
     "traceback": [
      "\u001b[1;31m---------------------------------------------------------------------------\u001b[0m",
      "\u001b[1;31mIndexError\u001b[0m                                Traceback (most recent call last)",
      "\u001b[1;32m~\\AppData\\Local\\Temp\\ipykernel_4288\\288160647.py\u001b[0m in \u001b[0;36m<module>\u001b[1;34m\u001b[0m\n\u001b[0;32m     15\u001b[0m     \u001b[1;32mfor\u001b[0m \u001b[0mx\u001b[0m \u001b[1;32min\u001b[0m \u001b[0mmovie_information\u001b[0m\u001b[1;33m:\u001b[0m\u001b[1;33m\u001b[0m\u001b[1;33m\u001b[0m\u001b[0m\n\u001b[0;32m     16\u001b[0m          \u001b[1;31m#supporting actor\u001b[0m\u001b[1;33m\u001b[0m\u001b[1;33m\u001b[0m\u001b[0m\n\u001b[1;32m---> 17\u001b[1;33m         \u001b[0mactor_two\u001b[0m \u001b[1;33m=\u001b[0m \u001b[0mx\u001b[0m\u001b[1;33m.\u001b[0m\u001b[0mfind\u001b[0m\u001b[1;33m(\u001b[0m\u001b[1;34m'p'\u001b[0m\u001b[1;33m,\u001b[0m \u001b[0mattrs\u001b[0m \u001b[1;33m=\u001b[0m \u001b[1;33m{\u001b[0m\u001b[1;34m'class'\u001b[0m \u001b[1;33m:\u001b[0m \u001b[1;34m''\u001b[0m\u001b[1;33m}\u001b[0m\u001b[1;33m)\u001b[0m\u001b[1;33m.\u001b[0m\u001b[0mfind_all\u001b[0m\u001b[1;33m(\u001b[0m\u001b[1;34m'a'\u001b[0m\u001b[1;33m)\u001b[0m\u001b[1;33m[\u001b[0m\u001b[1;36m2\u001b[0m\u001b[1;33m]\u001b[0m\u001b[1;33m.\u001b[0m\u001b[0mtext\u001b[0m \u001b[1;32mif\u001b[0m \u001b[0mx\u001b[0m\u001b[1;33m.\u001b[0m\u001b[0mfind\u001b[0m\u001b[1;33m(\u001b[0m\u001b[1;34m'p'\u001b[0m\u001b[1;33m,\u001b[0m \u001b[0mattrs\u001b[0m \u001b[1;33m=\u001b[0m \u001b[1;33m{\u001b[0m\u001b[1;34m'class'\u001b[0m \u001b[1;33m:\u001b[0m \u001b[1;34m''\u001b[0m\u001b[1;33m}\u001b[0m\u001b[1;33m)\u001b[0m\u001b[1;33m.\u001b[0m\u001b[0mfind_all\u001b[0m\u001b[1;33m(\u001b[0m\u001b[1;34m'a'\u001b[0m\u001b[1;33m)\u001b[0m\u001b[1;33m[\u001b[0m\u001b[1;36m2\u001b[0m\u001b[1;33m]\u001b[0m \u001b[1;32melse\u001b[0m \u001b[1;34m'none'\u001b[0m\u001b[1;33m\u001b[0m\u001b[1;33m\u001b[0m\u001b[0m\n\u001b[0m\u001b[0;32m     18\u001b[0m         \u001b[0msupporting_actor\u001b[0m\u001b[1;33m.\u001b[0m\u001b[0mappend\u001b[0m\u001b[1;33m(\u001b[0m\u001b[0mactor_two\u001b[0m\u001b[1;33m)\u001b[0m\u001b[1;33m\u001b[0m\u001b[1;33m\u001b[0m\u001b[0m\n\u001b[0;32m     19\u001b[0m \u001b[1;33m\u001b[0m\u001b[0m\n",
      "\u001b[1;31mIndexError\u001b[0m: list index out of range"
     ]
    }
   ],
   "source": [
    "supporting_actor = []\n",
    "supporting_actor_two = []\n",
    "supporting_actor_three = []\n",
    "\n",
    "for page in pages:\n",
    "    page = requests.get(\"https://www.imdb.com/search/title/?year=1990-01-01,1990-12-31&sort=boxoffice_gross_us,desc&start=\"+str(page)+\"&ref_=adv_nxt\")\n",
    "    soup =BeautifulSoup(page.text, 'html.parser')\n",
    "    #the top div that all the information is under\n",
    "    movie_information = soup.findAll('div', attrs= {'class' : 'lister-item mode-advanced'})  \n",
    "    \n",
    "    # using sleep command\n",
    "    sleep(randint(2,8))\n",
    "    \n",
    "    #Using another for loop to extract data from imdb\n",
    "    for x in movie_information:\n",
    "         #supporting actor\n",
    "        actor_two = x.find('p', attrs = {'class' : ''}).find_all('a')[2].text if x.find('p', attrs = {'class' : ''}).find_all('a')[2] else 'none'\n",
    "        supporting_actor.append(actor_two)\n",
    "\n",
    "            #supporting actor 2\n",
    "        #actor_three = (x.find('p', attrs = {'class' : ''}).find_all('a')[3].text \n",
    "         #              if x.find('p', attrs = {'class' : ''}).find_all('a')[3] else 'none')\n",
    "        #supporting_actor_two.append(actor_three)\n",
    "\n",
    "            #supporting actor 3\n",
    "        #actor_four =(x.find('p', attrs = {'class' : ''}).find_all('a')[4].text \n",
    "         #              if x.find('p', attrs = {'class' : ''}).find_all('a')[4] else 'none')\n",
    "        #supporting_actor_three.append(actor_four)\n",
    "        "
   ]
  },
  {
   "cell_type": "code",
   "execution_count": null,
   "id": "a2611778",
   "metadata": {},
   "outputs": [],
   "source": []
  }
 ],
 "metadata": {
  "kernelspec": {
   "display_name": "Python 3 (ipykernel)",
   "language": "python",
   "name": "python3"
  },
  "language_info": {
   "codemirror_mode": {
    "name": "ipython",
    "version": 3
   },
   "file_extension": ".py",
   "mimetype": "text/x-python",
   "name": "python",
   "nbconvert_exporter": "python",
   "pygments_lexer": "ipython3",
   "version": "3.9.13"
  }
 },
 "nbformat": 4,
 "nbformat_minor": 5
}
