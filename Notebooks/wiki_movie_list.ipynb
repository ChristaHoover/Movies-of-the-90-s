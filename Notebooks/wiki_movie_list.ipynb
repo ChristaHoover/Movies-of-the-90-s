{
 "cells": [
  {
   "cell_type": "code",
   "execution_count": 1,
   "id": "bc84ee9f",
   "metadata": {},
   "outputs": [],
   "source": [
    "import pandas as pd\n",
    "import numpy as np\n",
    "import requests\n",
    "from bs4 import BeautifulSoup as bs"
   ]
  },
  {
   "cell_type": "code",
   "execution_count": 2,
   "id": "349dcfb3",
   "metadata": {},
   "outputs": [
    {
     "name": "stdout",
     "output_type": "stream",
     "text": [
      "11\n"
     ]
    }
   ],
   "source": [
    "#bring in url\n",
    "url_90 = 'https://en.wikipedia.org/wiki/1990_in_film'\n",
    "wiki_tables_90 = pd.read_html(url_90) \n",
    "response = requests.get(url_90)\n",
    "print(len(wiki_tables_90))"
   ]
  },
  {
   "cell_type": "code",
   "execution_count": 3,
   "id": "ce48185d",
   "metadata": {},
   "outputs": [],
   "source": [
    "wiki_one_90= wiki_tables_90[5]\n",
    "wiki_two_90= wiki_tables_90[6]\n",
    "wiki_three_90= wiki_tables_90[7]\n",
    "wiki_four_90= wiki_tables_90[8]"
   ]
  },
  {
   "cell_type": "code",
   "execution_count": 4,
   "id": "678b9bef",
   "metadata": {},
   "outputs": [],
   "source": [
    "wiki_90_df = pd.concat([wiki_one_90,wiki_two_90,wiki_three_90,wiki_four_90], axis=0).reset_index()"
   ]
  },
  {
   "cell_type": "code",
   "execution_count": 5,
   "id": "da6a0e73",
   "metadata": {},
   "outputs": [
    {
     "data": {
      "text/html": [
       "<div>\n",
       "<style scoped>\n",
       "    .dataframe tbody tr th:only-of-type {\n",
       "        vertical-align: middle;\n",
       "    }\n",
       "\n",
       "    .dataframe tbody tr th {\n",
       "        vertical-align: top;\n",
       "    }\n",
       "\n",
       "    .dataframe thead th {\n",
       "        text-align: right;\n",
       "    }\n",
       "</style>\n",
       "<table border=\"1\" class=\"dataframe\">\n",
       "  <thead>\n",
       "    <tr style=\"text-align: right;\">\n",
       "      <th></th>\n",
       "      <th>index</th>\n",
       "      <th>Opening</th>\n",
       "      <th>Opening.1</th>\n",
       "      <th>Title</th>\n",
       "      <th>Studio</th>\n",
       "      <th>Cast and crew</th>\n",
       "      <th>Genre</th>\n",
       "      <th>Medium</th>\n",
       "    </tr>\n",
       "  </thead>\n",
       "  <tbody>\n",
       "    <tr>\n",
       "      <th>0</th>\n",
       "      <td>0</td>\n",
       "      <td>JANUARY</td>\n",
       "      <td>5.0</td>\n",
       "      <td>Henry: Portrait of a Serial Killer</td>\n",
       "      <td>Greycat Films</td>\n",
       "      <td>John McNaughton (director/screenplay); Richard...</td>\n",
       "      <td>Horror, Crime</td>\n",
       "      <td>Live action</td>\n",
       "    </tr>\n",
       "    <tr>\n",
       "      <th>1</th>\n",
       "      <td>1</td>\n",
       "      <td>JANUARY</td>\n",
       "      <td>7.0</td>\n",
       "      <td>Drug Wars: The Camarena Story</td>\n",
       "      <td>NBC Productions / World International Network ...</td>\n",
       "      <td>Brian Gibson (director); Rose Schacht, Ann Pow...</td>\n",
       "      <td>Crime, Drama</td>\n",
       "      <td>Live action</td>\n",
       "    </tr>\n",
       "    <tr>\n",
       "      <th>2</th>\n",
       "      <td>2</td>\n",
       "      <td>JANUARY</td>\n",
       "      <td>12.0</td>\n",
       "      <td>Downtown</td>\n",
       "      <td>20th Century Fox</td>\n",
       "      <td>Richard Benjamin (director); Nat Mauldin (scre...</td>\n",
       "      <td>Action, Comedy</td>\n",
       "      <td>Live action</td>\n",
       "    </tr>\n",
       "    <tr>\n",
       "      <th>3</th>\n",
       "      <td>3</td>\n",
       "      <td>JANUARY</td>\n",
       "      <td>12.0</td>\n",
       "      <td>Internal Affairs</td>\n",
       "      <td>Paramount Pictures</td>\n",
       "      <td>Mike Figgis (director); Henry Bean (screenplay...</td>\n",
       "      <td>Crime, Thriller</td>\n",
       "      <td>Live action</td>\n",
       "    </tr>\n",
       "    <tr>\n",
       "      <th>4</th>\n",
       "      <td>4</td>\n",
       "      <td>JANUARY</td>\n",
       "      <td>12.0</td>\n",
       "      <td>Leatherface: The Texas Chainsaw Massacre III</td>\n",
       "      <td>New Line Cinema</td>\n",
       "      <td>Jeff Burr (director); David J. Schow (screenpl...</td>\n",
       "      <td>Horror</td>\n",
       "      <td>Live action</td>\n",
       "    </tr>\n",
       "    <tr>\n",
       "      <th>...</th>\n",
       "      <td>...</td>\n",
       "      <td>...</td>\n",
       "      <td>...</td>\n",
       "      <td>...</td>\n",
       "      <td>...</td>\n",
       "      <td>...</td>\n",
       "      <td>...</td>\n",
       "      <td>...</td>\n",
       "    </tr>\n",
       "    <tr>\n",
       "      <th>196</th>\n",
       "      <td>58</td>\n",
       "      <td>DECEMBER</td>\n",
       "      <td>21.0</td>\n",
       "      <td>The Long Walk Home</td>\n",
       "      <td>Miramax Films</td>\n",
       "      <td>Richard Pearce (director); John Cork (screenpl...</td>\n",
       "      <td>Historical, Drama</td>\n",
       "      <td>Live action</td>\n",
       "    </tr>\n",
       "    <tr>\n",
       "      <th>197</th>\n",
       "      <td>59</td>\n",
       "      <td>DECEMBER</td>\n",
       "      <td>23.0</td>\n",
       "      <td>Come See the Paradise</td>\n",
       "      <td>20th Century Fox</td>\n",
       "      <td>Alan Parker (director/screenplay); Dennis Quai...</td>\n",
       "      <td>Drama</td>\n",
       "      <td>Live action</td>\n",
       "    </tr>\n",
       "    <tr>\n",
       "      <th>198</th>\n",
       "      <td>60</td>\n",
       "      <td>DECEMBER</td>\n",
       "      <td>25.0</td>\n",
       "      <td>Alice</td>\n",
       "      <td>Orion Pictures</td>\n",
       "      <td>Woody Allen (director/screenplay); Mia Farrow,...</td>\n",
       "      <td>Romance, Fantasy</td>\n",
       "      <td>Live action</td>\n",
       "    </tr>\n",
       "    <tr>\n",
       "      <th>199</th>\n",
       "      <td>61</td>\n",
       "      <td>DECEMBER</td>\n",
       "      <td>25.0</td>\n",
       "      <td>The Godfather Part III</td>\n",
       "      <td>Paramount Pictures</td>\n",
       "      <td>Francis Ford Coppola (director/screenplay); Ma...</td>\n",
       "      <td>Crime, Drama</td>\n",
       "      <td>Live action</td>\n",
       "    </tr>\n",
       "    <tr>\n",
       "      <th>200</th>\n",
       "      <td>62</td>\n",
       "      <td>DECEMBER</td>\n",
       "      <td>25.0</td>\n",
       "      <td>Green Card</td>\n",
       "      <td>Touchstone Pictures</td>\n",
       "      <td>Peter Weir (director/screenplay); Gérard Depar...</td>\n",
       "      <td>Romance, Comedy</td>\n",
       "      <td>Live action</td>\n",
       "    </tr>\n",
       "  </tbody>\n",
       "</table>\n",
       "<p>201 rows × 8 columns</p>\n",
       "</div>"
      ],
      "text/plain": [
       "     index   Opening  Opening.1                                         Title  \\\n",
       "0        0   JANUARY        5.0            Henry: Portrait of a Serial Killer   \n",
       "1        1   JANUARY        7.0                 Drug Wars: The Camarena Story   \n",
       "2        2   JANUARY       12.0                                      Downtown   \n",
       "3        3   JANUARY       12.0                              Internal Affairs   \n",
       "4        4   JANUARY       12.0  Leatherface: The Texas Chainsaw Massacre III   \n",
       "..     ...       ...        ...                                           ...   \n",
       "196     58  DECEMBER       21.0                            The Long Walk Home   \n",
       "197     59  DECEMBER       23.0                         Come See the Paradise   \n",
       "198     60  DECEMBER       25.0                                         Alice   \n",
       "199     61  DECEMBER       25.0                        The Godfather Part III   \n",
       "200     62  DECEMBER       25.0                                    Green Card   \n",
       "\n",
       "                                                Studio  \\\n",
       "0                                        Greycat Films   \n",
       "1    NBC Productions / World International Network ...   \n",
       "2                                     20th Century Fox   \n",
       "3                                   Paramount Pictures   \n",
       "4                                      New Line Cinema   \n",
       "..                                                 ...   \n",
       "196                                      Miramax Films   \n",
       "197                                   20th Century Fox   \n",
       "198                                     Orion Pictures   \n",
       "199                                 Paramount Pictures   \n",
       "200                                Touchstone Pictures   \n",
       "\n",
       "                                         Cast and crew              Genre  \\\n",
       "0    John McNaughton (director/screenplay); Richard...      Horror, Crime   \n",
       "1    Brian Gibson (director); Rose Schacht, Ann Pow...       Crime, Drama   \n",
       "2    Richard Benjamin (director); Nat Mauldin (scre...     Action, Comedy   \n",
       "3    Mike Figgis (director); Henry Bean (screenplay...    Crime, Thriller   \n",
       "4    Jeff Burr (director); David J. Schow (screenpl...             Horror   \n",
       "..                                                 ...                ...   \n",
       "196  Richard Pearce (director); John Cork (screenpl...  Historical, Drama   \n",
       "197  Alan Parker (director/screenplay); Dennis Quai...              Drama   \n",
       "198  Woody Allen (director/screenplay); Mia Farrow,...   Romance, Fantasy   \n",
       "199  Francis Ford Coppola (director/screenplay); Ma...       Crime, Drama   \n",
       "200  Peter Weir (director/screenplay); Gérard Depar...    Romance, Comedy   \n",
       "\n",
       "          Medium  \n",
       "0    Live action  \n",
       "1    Live action  \n",
       "2    Live action  \n",
       "3    Live action  \n",
       "4    Live action  \n",
       "..           ...  \n",
       "196  Live action  \n",
       "197  Live action  \n",
       "198  Live action  \n",
       "199  Live action  \n",
       "200  Live action  \n",
       "\n",
       "[201 rows x 8 columns]"
      ]
     },
     "execution_count": 5,
     "metadata": {},
     "output_type": "execute_result"
    }
   ],
   "source": [
    "wiki_90_df"
   ]
  },
  {
   "cell_type": "code",
   "execution_count": 6,
   "id": "26e3473e",
   "metadata": {},
   "outputs": [
    {
     "name": "stdout",
     "output_type": "stream",
     "text": [
      "11\n"
     ]
    }
   ],
   "source": [
    "\n",
    "#bring in url for 91\n",
    "url_91 = 'https://en.wikipedia.org/wiki/1991_in_film'\n",
    "wiki_tables_91 = pd.read_html(url_91) \n",
    "response = requests.get(url_91)\n",
    "print(len(wiki_tables_91))"
   ]
  },
  {
   "cell_type": "code",
   "execution_count": 7,
   "id": "e388e669",
   "metadata": {},
   "outputs": [],
   "source": [
    "wiki_one_91= wiki_tables_91[5]\n",
    "wiki_two_91= wiki_tables_91[6]\n",
    "wiki_three_91= wiki_tables_91[7]\n",
    "wiki_four_91= wiki_tables_91[8]"
   ]
  },
  {
   "cell_type": "code",
   "execution_count": 8,
   "id": "28bcf43a",
   "metadata": {},
   "outputs": [],
   "source": [
    "wiki_91_df = pd.concat([wiki_one_91,wiki_two_91,wiki_three_91,wiki_four_91], axis=0).reset_index()"
   ]
  },
  {
   "cell_type": "code",
   "execution_count": 9,
   "id": "4d2ff7dd",
   "metadata": {},
   "outputs": [
    {
     "name": "stdout",
     "output_type": "stream",
     "text": [
      "11\n"
     ]
    }
   ],
   "source": [
    "#bring in url for 92\n",
    "url_92 = 'https://en.wikipedia.org/wiki/1992_in_film'\n",
    "wiki_tables_92 = pd.read_html(url_92) \n",
    "response = requests.get(url_92)\n",
    "print(len(wiki_tables_92))"
   ]
  },
  {
   "cell_type": "code",
   "execution_count": 10,
   "id": "ddaf16ed",
   "metadata": {},
   "outputs": [],
   "source": [
    "wiki_one_92= wiki_tables_92[5]\n",
    "wiki_two_92= wiki_tables_92[6]\n",
    "wiki_three_92= wiki_tables_92[7]\n",
    "wiki_four_92= wiki_tables_92[8]"
   ]
  },
  {
   "cell_type": "code",
   "execution_count": 11,
   "id": "b2fb12c3",
   "metadata": {},
   "outputs": [],
   "source": [
    "#concating the tables\n",
    "wiki_92_df = pd.concat([wiki_one_92,wiki_two_92,wiki_three_92,wiki_four_92], axis=0).reset_index()"
   ]
  },
  {
   "cell_type": "code",
   "execution_count": 12,
   "id": "c30b8d92",
   "metadata": {},
   "outputs": [
    {
     "name": "stdout",
     "output_type": "stream",
     "text": [
      "11\n"
     ]
    }
   ],
   "source": [
    "#bring in url for 93\n",
    "url_93 = 'https://en.wikipedia.org/wiki/1993_in_film'\n",
    "wiki_tables_93 = pd.read_html(url_93) \n",
    "response = requests.get(url_93)\n",
    "print(len(wiki_tables_93))"
   ]
  },
  {
   "cell_type": "code",
   "execution_count": 13,
   "id": "8fa73a1a",
   "metadata": {},
   "outputs": [],
   "source": [
    "wiki_one_93= wiki_tables_93[5]\n",
    "wiki_two_93= wiki_tables_93[6]\n",
    "wiki_three_93= wiki_tables_93[7]\n",
    "wiki_four_93= wiki_tables_93[8]"
   ]
  },
  {
   "cell_type": "code",
   "execution_count": 14,
   "id": "cbc7b680",
   "metadata": {},
   "outputs": [],
   "source": [
    "#concating the tables\n",
    "wiki_93_df = pd.concat([wiki_one_93,wiki_two_93,wiki_three_93,wiki_four_93], axis=0).reset_index()"
   ]
  },
  {
   "cell_type": "code",
   "execution_count": 15,
   "id": "172b87a6",
   "metadata": {},
   "outputs": [
    {
     "name": "stdout",
     "output_type": "stream",
     "text": [
      "11\n"
     ]
    }
   ],
   "source": [
    "#bring in url for 94\n",
    "url_94 = 'https://en.wikipedia.org/wiki/1994_in_film'\n",
    "wiki_tables_94 = pd.read_html(url_94) \n",
    "response = requests.get(url_94)\n",
    "print(len(wiki_tables_94))"
   ]
  },
  {
   "cell_type": "code",
   "execution_count": 16,
   "id": "c9709dfe",
   "metadata": {},
   "outputs": [],
   "source": [
    "wiki_one_94= wiki_tables_94[5]\n",
    "wiki_two_94= wiki_tables_94[6]\n",
    "wiki_three_94= wiki_tables_94[7]\n",
    "wiki_four_94= wiki_tables_94[8]"
   ]
  },
  {
   "cell_type": "code",
   "execution_count": 17,
   "id": "3ceead41",
   "metadata": {},
   "outputs": [],
   "source": [
    "#concating the tables\n",
    "wiki_94_df = pd.concat([wiki_one_94,wiki_two_94,wiki_three_94,wiki_four_94], axis=0).reset_index()"
   ]
  },
  {
   "cell_type": "code",
   "execution_count": 18,
   "id": "bfeb2021",
   "metadata": {},
   "outputs": [
    {
     "name": "stdout",
     "output_type": "stream",
     "text": [
      "11\n"
     ]
    }
   ],
   "source": [
    "#bring in url for 95\n",
    "url_95 = 'https://en.wikipedia.org/wiki/1995_in_film'\n",
    "wiki_tables_95 = pd.read_html(url_95) \n",
    "response = requests.get(url_95)\n",
    "print(len(wiki_tables_95))"
   ]
  },
  {
   "cell_type": "code",
   "execution_count": 19,
   "id": "b1606121",
   "metadata": {},
   "outputs": [],
   "source": [
    "wiki_one_95= wiki_tables_95[5]\n",
    "wiki_two_95= wiki_tables_95[6]\n",
    "wiki_three_95= wiki_tables_95[7]\n",
    "wiki_four_95= wiki_tables_95[8]"
   ]
  },
  {
   "cell_type": "code",
   "execution_count": 20,
   "id": "74103b7e",
   "metadata": {},
   "outputs": [],
   "source": [
    "#concating the tables\n",
    "wiki_95_df = pd.concat([wiki_one_95,wiki_two_95,wiki_three_95,wiki_four_95], axis=0).reset_index()"
   ]
  },
  {
   "cell_type": "code",
   "execution_count": 21,
   "id": "0def513d",
   "metadata": {},
   "outputs": [
    {
     "name": "stdout",
     "output_type": "stream",
     "text": [
      "11\n"
     ]
    }
   ],
   "source": [
    "#bring in url for 96\n",
    "url_96 = 'https://en.wikipedia.org/wiki/1996_in_film'\n",
    "wiki_tables_96 = pd.read_html(url_96) \n",
    "response = requests.get(url_96)\n",
    "print(len(wiki_tables_96))"
   ]
  },
  {
   "cell_type": "code",
   "execution_count": 22,
   "id": "85d43e8f",
   "metadata": {},
   "outputs": [],
   "source": [
    "wiki_one_96= wiki_tables_96[5]\n",
    "wiki_two_96= wiki_tables_96[6]\n",
    "wiki_three_96= wiki_tables_96[7]\n",
    "wiki_four_96= wiki_tables_96[8]"
   ]
  },
  {
   "cell_type": "code",
   "execution_count": 23,
   "id": "382f635e",
   "metadata": {},
   "outputs": [],
   "source": [
    "#concating the tables\n",
    "wiki_96_df = pd.concat([wiki_one_96,wiki_two_96,wiki_three_96,wiki_four_96], axis=0).reset_index()"
   ]
  },
  {
   "cell_type": "code",
   "execution_count": 24,
   "id": "b725e5f8",
   "metadata": {},
   "outputs": [
    {
     "name": "stdout",
     "output_type": "stream",
     "text": [
      "11\n"
     ]
    }
   ],
   "source": [
    "#bring in url for 97\n",
    "url_97 = 'https://en.wikipedia.org/wiki/1997_in_film'\n",
    "wiki_tables_97 = pd.read_html(url_97) \n",
    "response = requests.get(url_97)\n",
    "print(len(wiki_tables_97))"
   ]
  },
  {
   "cell_type": "code",
   "execution_count": 25,
   "id": "4498aa8d",
   "metadata": {},
   "outputs": [],
   "source": [
    "wiki_one_97= wiki_tables_97[5]\n",
    "wiki_two_97= wiki_tables_97[6]\n",
    "wiki_three_97= wiki_tables_97[7]\n",
    "wiki_four_97= wiki_tables_97[8]"
   ]
  },
  {
   "cell_type": "code",
   "execution_count": 26,
   "id": "ef83a4bc",
   "metadata": {},
   "outputs": [],
   "source": [
    "#concating the tables\n",
    "wiki_97_df = pd.concat([wiki_one_97,wiki_two_97,wiki_three_97,wiki_four_97], axis=0).reset_index()"
   ]
  },
  {
   "cell_type": "code",
   "execution_count": 27,
   "id": "1913d212",
   "metadata": {},
   "outputs": [
    {
     "name": "stdout",
     "output_type": "stream",
     "text": [
      "12\n"
     ]
    }
   ],
   "source": [
    "#bring in url for 98\n",
    "url_98 = 'https://en.wikipedia.org/wiki/1998_in_film'\n",
    "wiki_tables_98 = pd.read_html(url_98) \n",
    "response = requests.get(url_98)\n",
    "print(len(wiki_tables_98))"
   ]
  },
  {
   "cell_type": "code",
   "execution_count": 28,
   "id": "f997599b",
   "metadata": {},
   "outputs": [],
   "source": [
    "wiki_one_98= wiki_tables_98[5]\n",
    "wiki_two_98= wiki_tables_98[6]\n",
    "wiki_three_98= wiki_tables_98[7]\n",
    "wiki_four_98= wiki_tables_98[8]"
   ]
  },
  {
   "cell_type": "code",
   "execution_count": 29,
   "id": "5ae787b7",
   "metadata": {},
   "outputs": [],
   "source": [
    "#concating the tables\n",
    "wiki_98_df = pd.concat([wiki_one_98,wiki_two_98,wiki_three_98,wiki_four_98], axis=0).reset_index()"
   ]
  },
  {
   "cell_type": "code",
   "execution_count": 30,
   "id": "87246614",
   "metadata": {},
   "outputs": [
    {
     "name": "stdout",
     "output_type": "stream",
     "text": [
      "11\n"
     ]
    }
   ],
   "source": [
    "#bring in url for 99\n",
    "url_99 = 'https://en.wikipedia.org/wiki/1999_in_film'\n",
    "wiki_tables_99 = pd.read_html(url_99) \n",
    "response = requests.get(url_99)\n",
    "print(len(wiki_tables_99))"
   ]
  },
  {
   "cell_type": "code",
   "execution_count": 31,
   "id": "645d81a5",
   "metadata": {},
   "outputs": [],
   "source": [
    "wiki_one_99= wiki_tables_99[5]\n",
    "wiki_two_99= wiki_tables_99[6]\n",
    "wiki_three_99= wiki_tables_99[7]\n",
    "wiki_four_99= wiki_tables_99[8]"
   ]
  },
  {
   "cell_type": "code",
   "execution_count": 32,
   "id": "22aca0b2",
   "metadata": {},
   "outputs": [],
   "source": [
    "#concating the tables\n",
    "wiki_99_df = pd.concat([wiki_one_99,wiki_two_99,wiki_three_99,wiki_four_99], axis=0).reset_index()"
   ]
  },
  {
   "cell_type": "code",
   "execution_count": 33,
   "id": "163db986",
   "metadata": {},
   "outputs": [],
   "source": [
    "#concating the tables from the 90s into one table so i have the entire decade \n",
    "wiki_movie_list = pd.concat([wiki_90_df,wiki_91_df, wiki_92_df,wiki_93_df,wiki_94_df,wiki_95_df,wiki_96_df,wiki_97_df,wiki_98_df,wiki_99_df], axis=0).reset_index()"
   ]
  },
  {
   "cell_type": "code",
   "execution_count": 34,
   "id": "7c6f40f5",
   "metadata": {},
   "outputs": [],
   "source": [
    "wiki_movie_list.to_csv('wiki_movie_list.csv')"
   ]
  },
  {
   "cell_type": "code",
   "execution_count": null,
   "id": "783169bf",
   "metadata": {},
   "outputs": [],
   "source": [
    "#making alist of the columns i want to keep\n",
    "columns_i_want = ['Opening', 'Title', 'Studio', 'Medium']"
   ]
  },
  {
   "cell_type": "code",
   "execution_count": null,
   "id": "a76db5f6",
   "metadata": {},
   "outputs": [],
   "source": [
    "#Trimin gmy DF\n",
    "wiki_final_list = wiki_movie_list[columns_i_want]"
   ]
  },
  {
   "cell_type": "code",
   "execution_count": null,
   "id": "f38c0200",
   "metadata": {},
   "outputs": [],
   "source": [
    "#saving as a csv\n",
    "wiki_final_list.to_csv('wiki_final_list.csv')"
   ]
  },
  {
   "cell_type": "code",
   "execution_count": 36,
   "id": "bf376894",
   "metadata": {},
   "outputs": [
    {
     "ename": "NameError",
     "evalue": "name 'wiki_final_list' is not defined",
     "output_type": "error",
     "traceback": [
      "\u001b[1;31m---------------------------------------------------------------------------\u001b[0m",
      "\u001b[1;31mNameError\u001b[0m                                 Traceback (most recent call last)",
      "\u001b[1;32m~\\AppData\\Local\\Temp\\ipykernel_29576\\1595616931.py\u001b[0m in \u001b[0;36m<module>\u001b[1;34m\u001b[0m\n\u001b[1;32m----> 1\u001b[1;33m \u001b[0mwiki_final_list\u001b[0m\u001b[1;33m\u001b[0m\u001b[1;33m\u001b[0m\u001b[0m\n\u001b[0m",
      "\u001b[1;31mNameError\u001b[0m: name 'wiki_final_list' is not defined"
     ]
    }
   ],
   "source": []
  },
  {
   "cell_type": "code",
   "execution_count": null,
   "id": "f66d8f1b",
   "metadata": {},
   "outputs": [],
   "source": []
  }
 ],
 "metadata": {
  "kernelspec": {
   "display_name": "Python 3 (ipykernel)",
   "language": "python",
   "name": "python3"
  },
  "language_info": {
   "codemirror_mode": {
    "name": "ipython",
    "version": 3
   },
   "file_extension": ".py",
   "mimetype": "text/x-python",
   "name": "python",
   "nbconvert_exporter": "python",
   "pygments_lexer": "ipython3",
   "version": "3.9.13"
  }
 },
 "nbformat": 4,
 "nbformat_minor": 5
}
