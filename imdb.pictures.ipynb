{
 "cells": [
  {
   "cell_type": "code",
   "execution_count": 1,
   "id": "fad244f2",
   "metadata": {},
   "outputs": [],
   "source": [
    "import pandas as pd\n",
    "import numpy as np\n",
    "import requests\n",
    "from bs4 import BeautifulSoup as bs\n",
    "from time import sleep\n",
    "from random import randint"
   ]
  },
  {
   "cell_type": "code",
   "execution_count": 2,
   "id": "1319b0a8",
   "metadata": {},
   "outputs": [],
   "source": [
    "headers = {\"Accespt-Language\": \"en-US,en;q=0.5\"}"
   ]
  },
  {
   "cell_type": "code",
   "execution_count": 3,
   "id": "80955c7d",
   "metadata": {},
   "outputs": [],
   "source": [
    "pages = np.arange(1,50,50)"
   ]
  },
  {
   "cell_type": "code",
   "execution_count": 5,
   "id": "9b5f8b96",
   "metadata": {},
   "outputs": [],
   "source": [
    "for page in pages:\n",
    "    page = requests.get(\"https://www.imdb.com/search/title/?title_type=feature&release_date=1990-01-01,1999-12-31&sort=boxoffice_gross_us,desc&start=\"+str(page)+\"&ref_=adv_nxt\")\n",
    "    soup =bs(page.text, 'html.parser')\n",
    "    #the top div that all the information is under\n",
    "    movie_pictures = soup.findAll('div', attrs= {'class' : 'lister-item mode-advanced'})\n",
    "    \n",
    "    # using sleep command\n",
    "    sleep(randint(5,12))\n",
    "    \n",
    "    #creating a for loop for the movies\n",
    "    #for x in movie_pictures:\n",
    "        "
   ]
  },
  {
   "cell_type": "code",
   "execution_count": 6,
   "id": "30e5f9a8",
   "metadata": {},
   "outputs": [
    {
     "name": "stdout",
     "output_type": "stream",
     "text": [
      "<class 'bs4.element.ResultSet'>\n"
     ]
    },
    {
     "data": {
      "text/plain": [
       "[<img alt=\"Titanic\" class=\"loadlate\" data-tconst=\"tt0120338\" height=\"98\" loadlate=\"https://m.media-amazon.com/images/M/MV5BMDdmZGU3NDQtY2E5My00ZTliLWIzOTUtMTY4ZGI1YjdiNjk3XkEyXkFqcGdeQXVyNTA4NzY1MzY@._V1_UX67_CR0,0,67,98_AL_.jpg\" src=\"https://m.media-amazon.com/images/S/sash/4FyxwxECzL-U1J8.png\" width=\"67\"/>,\n",
       " <img alt=\"Star Wars: Episode I - The Phantom Menace\" class=\"loadlate\" data-tconst=\"tt0120915\" height=\"98\" loadlate=\"https://m.media-amazon.com/images/M/MV5BYTRhNjcwNWQtMGJmMi00NmQyLWE2YzItODVmMTdjNWI0ZDA2XkEyXkFqcGdeQXVyNTAyODkwOQ@@._V1_UX67_CR0,0,67,98_AL_.jpg\" src=\"https://m.media-amazon.com/images/S/sash/4FyxwxECzL-U1J8.png\" width=\"67\"/>,\n",
       " <img alt=\"The Lion King\" class=\"loadlate\" data-tconst=\"tt0110357\" height=\"98\" loadlate=\"https://m.media-amazon.com/images/M/MV5BYTYxNGMyZTYtMjE3MS00MzNjLWFjNmYtMDk3N2FmM2JiM2M1XkEyXkFqcGdeQXVyNjY5NDU4NzI@._V1_UX67_CR0,0,67,98_AL_.jpg\" src=\"https://m.media-amazon.com/images/S/sash/4FyxwxECzL-U1J8.png\" width=\"67\"/>,\n",
       " <img alt=\"Jurassic Park\" class=\"loadlate\" data-tconst=\"tt0107290\" height=\"98\" loadlate=\"https://m.media-amazon.com/images/M/MV5BMjM2MDgxMDg0Nl5BMl5BanBnXkFtZTgwNTM2OTM5NDE@._V1_UX67_CR0,0,67,98_AL_.jpg\" src=\"https://m.media-amazon.com/images/S/sash/4FyxwxECzL-U1J8.png\" width=\"67\"/>,\n",
       " <img alt=\"Forrest Gump\" class=\"loadlate\" data-tconst=\"tt0109830\" height=\"98\" loadlate=\"https://m.media-amazon.com/images/M/MV5BNWIwODRlZTUtY2U3ZS00Yzg1LWJhNzYtMmZiYmEyNmU1NjMzXkEyXkFqcGdeQXVyMTQxNzMzNDI@._V1_UY98_CR0,0,67,98_AL_.jpg\" src=\"https://m.media-amazon.com/images/S/sash/4FyxwxECzL-U1J8.png\" width=\"67\"/>,\n",
       " <img alt=\"Independence Day\" class=\"loadlate\" data-tconst=\"tt0116629\" height=\"98\" loadlate=\"https://m.media-amazon.com/images/M/MV5BMGQwNDNkMmItYWY1Yy00YTZmLWE5OTAtODU0MGZmMzQ1NDdkXkEyXkFqcGdeQXVyMTQxNzMzNDI@._V1_UX67_CR0,0,67,98_AL_.jpg\" src=\"https://m.media-amazon.com/images/S/sash/4FyxwxECzL-U1J8.png\" width=\"67\"/>,\n",
       " <img alt=\"The Sixth Sense\" class=\"loadlate\" data-tconst=\"tt0167404\" height=\"98\" loadlate=\"https://m.media-amazon.com/images/M/MV5BMWM4NTFhYjctNzUyNi00NGMwLTk3NTYtMDIyNTZmMzRlYmQyXkEyXkFqcGdeQXVyMTAwMzUyOTc@._V1_UX67_CR0,0,67,98_AL_.jpg\" src=\"https://m.media-amazon.com/images/S/sash/4FyxwxECzL-U1J8.png\" width=\"67\"/>,\n",
       " <img alt=\"Home Alone\" class=\"loadlate\" data-tconst=\"tt0099785\" height=\"98\" loadlate=\"https://m.media-amazon.com/images/M/MV5BMzFkM2YwOTQtYzk2Mi00N2VlLWE3NTItN2YwNDg1YmY0ZDNmXkEyXkFqcGdeQXVyMTMxODk2OTU@._V1_UX67_CR0,0,67,98_AL_.jpg\" src=\"https://m.media-amazon.com/images/S/sash/4FyxwxECzL-U1J8.png\" width=\"67\"/>,\n",
       " <img alt=\"Men in Black\" class=\"loadlate\" data-tconst=\"tt0119654\" height=\"98\" loadlate=\"https://m.media-amazon.com/images/M/MV5BOTlhYTVkMDktYzIyNC00NzlkLTlmN2ItOGEyMWQ4OTA2NDdmXkEyXkFqcGdeQXVyNTAyODkwOQ@@._V1_UX67_CR0,0,67,98_AL_.jpg\" src=\"https://m.media-amazon.com/images/S/sash/4FyxwxECzL-U1J8.png\" width=\"67\"/>,\n",
       " <img alt=\"Toy Story 2\" class=\"loadlate\" data-tconst=\"tt0120363\" height=\"98\" loadlate=\"https://m.media-amazon.com/images/M/MV5BMWM5ZDcxMTYtNTEyNS00MDRkLWI3YTItNThmMGExMWY4NDIwXkEyXkFqcGdeQXVyNjUwNzk3NDc@._V1_UX67_CR0,0,67,98_AL_.jpg\" src=\"https://m.media-amazon.com/images/S/sash/4FyxwxECzL-U1J8.png\" width=\"67\"/>,\n",
       " <img alt=\"Twister\" class=\"loadlate\" data-tconst=\"tt0117998\" height=\"98\" loadlate=\"https://m.media-amazon.com/images/M/MV5BODExYTM0MzEtZGY2Yy00N2ExLTkwZjItNGYzYTRmMWZlOGEzXkEyXkFqcGdeQXVyNDk3NzU2MTQ@._V1_UX67_CR0,0,67,98_AL_.jpg\" src=\"https://m.media-amazon.com/images/S/sash/4FyxwxECzL-U1J8.png\" width=\"67\"/>,\n",
       " <img alt=\"The Lost World: Jurassic Park\" class=\"loadlate\" data-tconst=\"tt0119567\" height=\"98\" loadlate=\"https://m.media-amazon.com/images/M/MV5BMDFlMmM4Y2QtNDg1ZS00MWVlLTlmODgtZDdhYjY5YjdhN2M0XkEyXkFqcGdeQXVyNTI4MjkwNjA@._V1_UX67_CR0,0,67,98_AL_.jpg\" src=\"https://m.media-amazon.com/images/S/sash/4FyxwxECzL-U1J8.png\" width=\"67\"/>,\n",
       " <img alt=\"Mrs. Doubtfire\" class=\"loadlate\" data-tconst=\"tt0107614\" height=\"98\" loadlate=\"https://m.media-amazon.com/images/M/MV5BMjExMDUzODE1N15BMl5BanBnXkFtZTgwNTU5NTYxMTE@._V1_UX67_CR0,0,67,98_AL_.jpg\" src=\"https://m.media-amazon.com/images/S/sash/4FyxwxECzL-U1J8.png\" width=\"67\"/>,\n",
       " <img alt=\"Beauty and the Beast\" class=\"loadlate\" data-tconst=\"tt0101414\" height=\"98\" loadlate=\"https://m.media-amazon.com/images/M/MV5BMzE5MDM1NDktY2I0OC00YWI5LTk2NzUtYjczNDczOWQxYjM0XkEyXkFqcGdeQXVyMTQxNzMzNDI@._V1_UX67_CR0,0,67,98_AL_.jpg\" src=\"https://m.media-amazon.com/images/S/sash/4FyxwxECzL-U1J8.png\" width=\"67\"/>,\n",
       " <img alt=\"Ghost\" class=\"loadlate\" data-tconst=\"tt0099653\" height=\"98\" loadlate=\"https://m.media-amazon.com/images/M/MV5BMmE4ZjI3YzctNjM0YS00MjBlLWFmYjItNDRiNTk0ZmRkYjVjXkEyXkFqcGdeQXVyNjc3MjQzNTI@._V1_UX67_CR0,0,67,98_AL_.jpg\" src=\"https://m.media-amazon.com/images/S/sash/4FyxwxECzL-U1J8.png\" width=\"67\"/>,\n",
       " <img alt=\"Aladdin\" class=\"loadlate\" data-tconst=\"tt0103639\" height=\"98\" loadlate=\"https://m.media-amazon.com/images/M/MV5BY2Q2NDI1MjUtM2Q5ZS00MTFlLWJiYWEtNTZmNjQ3OGJkZDgxXkEyXkFqcGdeQXVyNTI4MjkwNjA@._V1_UX67_CR0,0,67,98_AL_.jpg\" src=\"https://m.media-amazon.com/images/S/sash/4FyxwxECzL-U1J8.png\" width=\"67\"/>,\n",
       " <img alt=\"Saving Private Ryan\" class=\"loadlate\" data-tconst=\"tt0120815\" height=\"98\" loadlate=\"https://m.media-amazon.com/images/M/MV5BZjhkMDM4MWItZTVjOC00ZDRhLThmYTAtM2I5NzBmNmNlMzI1XkEyXkFqcGdeQXVyNDYyMDk5MTU@._V1_UX67_CR0,0,67,98_AL_.jpg\" src=\"https://m.media-amazon.com/images/S/sash/4FyxwxECzL-U1J8.png\" width=\"67\"/>,\n",
       " <img alt=\"Austin Powers: The Spy Who Shagged Me\" class=\"loadlate\" data-tconst=\"tt0145660\" height=\"98\" loadlate=\"https://m.media-amazon.com/images/M/MV5BMmFkZGQxN2YtODNlYS00MzM5LTk3NjQtNTUxYmQ1YzkwMDhmXkEyXkFqcGdeQXVyMTQxNzMzNDI@._V1_UX67_CR0,0,67,98_AL_.jpg\" src=\"https://m.media-amazon.com/images/S/sash/4FyxwxECzL-U1J8.png\" width=\"67\"/>,\n",
       " <img alt=\"Terminator 2: Judgment Day\" class=\"loadlate\" data-tconst=\"tt0103064\" height=\"98\" loadlate=\"https://m.media-amazon.com/images/M/MV5BMGU2NzRmZjUtOGUxYS00ZjdjLWEwZWItY2NlM2JhNjkxNTFmXkEyXkFqcGdeQXVyNjU0OTQ0OTY@._V1_UX67_CR0,0,67,98_AL_.jpg\" src=\"https://m.media-amazon.com/images/S/sash/4FyxwxECzL-U1J8.png\" width=\"67\"/>,\n",
       " <img alt=\"Armageddon\" class=\"loadlate\" data-tconst=\"tt0120591\" height=\"98\" loadlate=\"https://m.media-amazon.com/images/M/MV5BMGM0NzE2YjgtZGQ4YS00MmY3LTg4ZDMtYjUwNTNiNTJhNTQ5XkEyXkFqcGdeQXVyMTQxNzMzNDI@._V1_UY98_CR0,0,67,98_AL_.jpg\" src=\"https://m.media-amazon.com/images/S/sash/4FyxwxECzL-U1J8.png\" width=\"67\"/>,\n",
       " <img alt=\"Toy Story\" class=\"loadlate\" data-tconst=\"tt0114709\" height=\"98\" loadlate=\"https://m.media-amazon.com/images/M/MV5BMDU2ZWJlMjktMTRhMy00ZTA5LWEzNDgtYmNmZTEwZTViZWJkXkEyXkFqcGdeQXVyNDQ2OTk4MzI@._V1_UX67_CR0,0,67,98_AL_.jpg\" src=\"https://m.media-amazon.com/images/S/sash/4FyxwxECzL-U1J8.png\" width=\"67\"/>,\n",
       " <img alt=\"Dances with Wolves\" class=\"loadlate\" data-tconst=\"tt0099348\" height=\"98\" loadlate=\"https://m.media-amazon.com/images/M/MV5BMTY3OTI5NDczN15BMl5BanBnXkFtZTcwNDA0NDY3Mw@@._V1_UX67_CR0,0,67,98_AL_.jpg\" src=\"https://m.media-amazon.com/images/S/sash/4FyxwxECzL-U1J8.png\" width=\"67\"/>,\n",
       " <img alt=\"Batman Forever\" class=\"loadlate\" data-tconst=\"tt0112462\" height=\"98\" loadlate=\"https://m.media-amazon.com/images/M/MV5BNDdjYmFiYWEtYzBhZS00YTZkLWFlODgtY2I5MDE0NzZmMDljXkEyXkFqcGdeQXVyMTMxODk2OTU@._V1_UX67_CR0,0,67,98_AL_.jpg\" src=\"https://m.media-amazon.com/images/S/sash/4FyxwxECzL-U1J8.png\" width=\"67\"/>,\n",
       " <img alt=\"The Fugitive\" class=\"loadlate\" data-tconst=\"tt0106977\" height=\"98\" loadlate=\"https://m.media-amazon.com/images/M/MV5BYmFmOGZjYTItYjY1ZS00OWRiLTk0NDgtMjQ5MzBkYWE2YWE0XkEyXkFqcGdeQXVyNjU0OTQ0OTY@._V1_UX67_CR0,0,67,98_AL_.jpg\" src=\"https://m.media-amazon.com/images/S/sash/4FyxwxECzL-U1J8.png\" width=\"67\"/>,\n",
       " <img alt=\"Liar Liar\" class=\"loadlate\" data-tconst=\"tt0119528\" height=\"98\" loadlate=\"https://m.media-amazon.com/images/M/MV5BYjZlYmJjYWYtZDM0NS00YmZlLWIyMTAtMDY5ZTNjZTgwMDhjXkEyXkFqcGdeQXVyMTQxNzMzNDI@._V1_UX67_CR0,0,67,98_AL_.jpg\" src=\"https://m.media-amazon.com/images/S/sash/4FyxwxECzL-U1J8.png\" width=\"67\"/>,\n",
       " <img alt=\"Mission: Impossible\" class=\"loadlate\" data-tconst=\"tt0117060\" height=\"98\" loadlate=\"https://m.media-amazon.com/images/M/MV5BMTc3NjI2MjU0Nl5BMl5BanBnXkFtZTgwNDk3ODYxMTE@._V1_UX67_CR0,0,67,98_AL_.jpg\" src=\"https://m.media-amazon.com/images/S/sash/4FyxwxECzL-U1J8.png\" width=\"67\"/>,\n",
       " <img alt=\"Pretty Woman\" class=\"loadlate\" data-tconst=\"tt0100405\" height=\"98\" loadlate=\"https://m.media-amazon.com/images/M/MV5BNjk2ODQzNDYxNV5BMl5BanBnXkFtZTgwMTcyNDg4NjE@._V1_UX67_CR0,0,67,98_AL_.jpg\" src=\"https://m.media-amazon.com/images/S/sash/4FyxwxECzL-U1J8.png\" width=\"67\"/>,\n",
       " <img alt=\"There's Something About Mary\" class=\"loadlate\" data-tconst=\"tt0129387\" height=\"98\" loadlate=\"https://m.media-amazon.com/images/M/MV5BZWFlZjE5OTYtNWY0ZC00MzgzLTg5MjUtYTFkZjk2NjJkYjM0XkEyXkFqcGdeQXVyNTAyODkwOQ@@._V1_UX67_CR0,0,67,98_AL_.jpg\" src=\"https://m.media-amazon.com/images/S/sash/4FyxwxECzL-U1J8.png\" width=\"67\"/>,\n",
       " <img alt=\"Apollo 13\" class=\"loadlate\" data-tconst=\"tt0112384\" height=\"98\" loadlate=\"https://m.media-amazon.com/images/M/MV5BMjc4MzZlNmQtN2ZlOS00OGQzLWI5YjEtNDQ2YmZlN2FjNTIxXkEyXkFqcGdeQXVyMjUzOTY1NTc@._V1_UX67_CR0,0,67,98_AL_.jpg\" src=\"https://m.media-amazon.com/images/S/sash/4FyxwxECzL-U1J8.png\" width=\"67\"/>,\n",
       " <img alt=\"Home Alone 2: Lost in New York\" class=\"loadlate\" data-tconst=\"tt0104431\" height=\"98\" loadlate=\"https://m.media-amazon.com/images/M/MV5BNDI1MzM0Y2YtYmIyMS00ODE3LTlhZjEtZTUyNmEzMTNhZWU5XkEyXkFqcGdeQXVyMTQxNzMzNDI@._V1_UX67_CR0,0,67,98_AL_.jpg\" src=\"https://m.media-amazon.com/images/S/sash/4FyxwxECzL-U1J8.png\" width=\"67\"/>,\n",
       " <img alt=\"Air Force One\" class=\"loadlate\" data-tconst=\"tt0118571\" height=\"98\" loadlate=\"https://m.media-amazon.com/images/M/MV5BZmNiNTQ5ZjMtOThjYS00NDc2LWFlMWMtZTM5OTA1NjRmMGM4XkEyXkFqcGdeQXVyMjUzOTY1NTc@._V1_UX67_CR0,0,67,98_AL_.jpg\" src=\"https://m.media-amazon.com/images/S/sash/4FyxwxECzL-U1J8.png\" width=\"67\"/>,\n",
       " <img alt=\"The Matrix\" class=\"loadlate\" data-tconst=\"tt0133093\" height=\"98\" loadlate=\"https://m.media-amazon.com/images/M/MV5BNzQzOTk3OTAtNDQ0Zi00ZTVkLWI0MTEtMDllZjNkYzNjNTc4L2ltYWdlXkEyXkFqcGdeQXVyNjU0OTQ0OTY@._V1_UX67_CR0,0,67,98_AL_.jpg\" src=\"https://m.media-amazon.com/images/S/sash/4FyxwxECzL-U1J8.png\" width=\"67\"/>,\n",
       " <img alt=\"Tarzan\" class=\"loadlate\" data-tconst=\"tt0120855\" height=\"98\" loadlate=\"https://m.media-amazon.com/images/M/MV5BY2ZiYWUxN2ItYmQxZi00NDlkLWE2NDAtOTNmYTg1MDI0NDk1XkEyXkFqcGdeQXVyNjUwNzk3NDc@._V1_UX67_CR0,0,67,98_AL_.jpg\" src=\"https://m.media-amazon.com/images/S/sash/4FyxwxECzL-U1J8.png\" width=\"67\"/>,\n",
       " <img alt=\"Robin Hood: Prince of Thieves\" class=\"loadlate\" data-tconst=\"tt0102798\" height=\"98\" loadlate=\"https://m.media-amazon.com/images/M/MV5BNjUxMzVhNjgtYTQxNS00Zjg3LThlYjctOGFlZjg0YmI1ZmYyXkEyXkFqcGdeQXVyMjUzOTY1NTc@._V1_UX67_CR0,0,67,98_AL_.jpg\" src=\"https://m.media-amazon.com/images/S/sash/4FyxwxECzL-U1J8.png\" width=\"67\"/>,\n",
       " <img alt=\"Big Daddy\" class=\"loadlate\" data-tconst=\"tt0142342\" height=\"98\" loadlate=\"https://m.media-amazon.com/images/M/MV5BOWJmZTExZTYtZjg1Mi00ZDFmLTk3MTYtZTUwYzkzODA2M2ZmXkEyXkFqcGdeQXVyNjk1Njg5NTA@._V1_UX67_CR0,0,67,98_AL_.jpg\" src=\"https://m.media-amazon.com/images/S/sash/4FyxwxECzL-U1J8.png\" width=\"67\"/>,\n",
       " <img alt=\"Batman Returns\" class=\"loadlate\" data-tconst=\"tt0103776\" height=\"98\" loadlate=\"https://m.media-amazon.com/images/M/MV5BOGZmYzVkMmItM2NiOS00MDI3LWI4ZWQtMTg0YWZkODRkMmViXkEyXkFqcGdeQXVyODY0NzcxNw@@._V1_UX67_CR0,0,67,98_AL_.jpg\" src=\"https://m.media-amazon.com/images/S/sash/4FyxwxECzL-U1J8.png\" width=\"67\"/>,\n",
       " <img alt=\"A Bug's Life\" class=\"loadlate\" data-tconst=\"tt0120623\" height=\"98\" loadlate=\"https://m.media-amazon.com/images/M/MV5BNThmZGY4NzgtMTM4OC00NzNkLWEwNmEtMjdhMGY5YTc1NDE4XkEyXkFqcGdeQXVyMTQxNzMzNDI@._V1_UX67_CR0,0,67,98_AL_.jpg\" src=\"https://m.media-amazon.com/images/S/sash/4FyxwxECzL-U1J8.png\" width=\"67\"/>,\n",
       " <img alt=\"The Waterboy\" class=\"loadlate\" data-tconst=\"tt0120484\" height=\"98\" loadlate=\"https://m.media-amazon.com/images/M/MV5BNzJmZDZlMGItZGJhOC00Y2NjLTljNzctMDg5YmQ1NzU3NzYzL2ltYWdlXkEyXkFqcGdeQXVyMTQxNzMzNDI@._V1_UX67_CR0,0,67,98_AL_.jpg\" src=\"https://m.media-amazon.com/images/S/sash/4FyxwxECzL-U1J8.png\" width=\"67\"/>,\n",
       " <img alt=\"The Firm\" class=\"loadlate\" data-tconst=\"tt0106918\" height=\"98\" loadlate=\"https://m.media-amazon.com/images/M/MV5BNDMzNDEwM2EtN2I4YS00NjRjLTk5ZTAtZTg5NjI1OWZhN2FkXkEyXkFqcGdeQXVyMjUzOTY1NTc@._V1_UX67_CR0,0,67,98_AL_.jpg\" src=\"https://m.media-amazon.com/images/S/sash/4FyxwxECzL-U1J8.png\" width=\"67\"/>,\n",
       " <img alt=\"The Mummy\" class=\"loadlate\" data-tconst=\"tt0120616\" height=\"98\" loadlate=\"https://m.media-amazon.com/images/M/MV5BOTJiYjBhZDgtMjhiOC00MTIzLThlNGMtMmI1NjIwM2M3YTI5XkEyXkFqcGdeQXVyMTQxNzMzNDI@._V1_UX67_CR0,0,67,98_AL_.jpg\" src=\"https://m.media-amazon.com/images/S/sash/4FyxwxECzL-U1J8.png\" width=\"67\"/>,\n",
       " <img alt=\"Jerry Maguire\" class=\"loadlate\" data-tconst=\"tt0116695\" height=\"98\" loadlate=\"https://m.media-amazon.com/images/M/MV5BYTM0ZWNmZTUtOTVkZS00MTZiLTg3M2QtZjA0Y2RmOWM1NWEyXkEyXkFqcGdeQXVyNjU0OTQ0OTY@._V1_UX67_CR0,0,67,98_AL_.jpg\" src=\"https://m.media-amazon.com/images/S/sash/4FyxwxECzL-U1J8.png\" width=\"67\"/>,\n",
       " <img alt=\"Runaway Bride\" class=\"loadlate\" data-tconst=\"tt0163187\" height=\"98\" loadlate=\"https://m.media-amazon.com/images/M/MV5BOWRiMzQ3OWMtM2ZlMy00N2Y2LWFiNDEtMzUxNmYzZGE1MTc4XkEyXkFqcGdeQXVyMTI1Mzg0ODA5._V1_UX67_CR0,0,67,98_AL_.jpg\" src=\"https://m.media-amazon.com/images/S/sash/4FyxwxECzL-U1J8.png\" width=\"67\"/>,\n",
       " <img alt=\"As Good as It Gets\" class=\"loadlate\" data-tconst=\"tt0119822\" height=\"98\" loadlate=\"https://m.media-amazon.com/images/M/MV5BNWMxZTgzMWEtMTU0Zi00NDc5LWFkZjctMzUxNDIyNzZiMmNjXkEyXkFqcGdeQXVyMTQxNzMzNDI@._V1_UX67_CR0,0,67,98_AL_.jpg\" src=\"https://m.media-amazon.com/images/S/sash/4FyxwxECzL-U1J8.png\" width=\"67\"/>,\n",
       " <img alt=\"True Lies\" class=\"loadlate\" data-tconst=\"tt0111503\" height=\"98\" loadlate=\"https://m.media-amazon.com/images/M/MV5BYzg5YmUyNGMtMThiNS00MjA2LTgwZDctNDlhM2RkZDNmZmRkXkEyXkFqcGdeQXVyNDk3NzU2MTQ@._V1_UX67_CR0,0,67,98_AL_.jpg\" src=\"https://m.media-amazon.com/images/S/sash/4FyxwxECzL-U1J8.png\" width=\"67\"/>,\n",
       " <img alt=\"The Santa Clause\" class=\"loadlate\" data-tconst=\"tt0111070\" height=\"98\" loadlate=\"https://m.media-amazon.com/images/M/MV5BYzI0ZGRiYTEtNGExYi00ZDI2LWExMjMtODMzNDZjMTVjOWMxXkEyXkFqcGdeQXVyNTIzOTk5ODM@._V1_UX67_CR0,0,67,98_AL_.jpg\" src=\"https://m.media-amazon.com/images/S/sash/4FyxwxECzL-U1J8.png\" width=\"67\"/>,\n",
       " <img alt=\"Lethal Weapon 3\" class=\"loadlate\" data-tconst=\"tt0104714\" height=\"98\" loadlate=\"https://m.media-amazon.com/images/M/MV5BOTFlNjI0NDQtMzlkNC00ZDU0LWE0ODktYmI2OTc2YjZlZmVlXkEyXkFqcGdeQXVyMTQxNzMzNDI@._V1_UX67_CR0,0,67,98_AL_.jpg\" src=\"https://m.media-amazon.com/images/S/sash/4FyxwxECzL-U1J8.png\" width=\"67\"/>,\n",
       " <img alt=\"Doctor Dolittle\" class=\"loadlate\" data-tconst=\"tt0118998\" height=\"98\" loadlate=\"https://m.media-amazon.com/images/M/MV5BNGVmYjI4ZjktMjVkNi00ZTRlLWJlYTMtNzMxYjQ0ZDIyZWNmXkEyXkFqcGdeQXVyNTUyMzE4Mzg@._V1_UX67_CR0,0,67,98_AL_.jpg\" src=\"https://m.media-amazon.com/images/S/sash/4FyxwxECzL-U1J8.png\" width=\"67\"/>,\n",
       " <img alt=\"Pocahontas\" class=\"loadlate\" data-tconst=\"tt0114148\" height=\"98\" loadlate=\"https://m.media-amazon.com/images/M/MV5BMzc4YzhiN2ItY2Y4NC00YTA0LWEyMjEtNzllNTcxZDdjODhiXkEyXkFqcGdeQXVyNTUyMzE4Mzg@._V1_UX67_CR0,0,67,98_AL_.jpg\" src=\"https://m.media-amazon.com/images/S/sash/4FyxwxECzL-U1J8.png\" width=\"67\"/>,\n",
       " <img alt=\"A Few Good Men\" class=\"loadlate\" data-tconst=\"tt0104257\" height=\"98\" loadlate=\"https://m.media-amazon.com/images/M/MV5BMmRlZDQ1MmUtMzE2Yi00YTkxLTk1MGMtYmIyYWQwODcxYzRlXkEyXkFqcGdeQXVyNTI4MjkwNjA@._V1_UX67_CR0,0,67,98_AL_.jpg\" src=\"https://m.media-amazon.com/images/S/sash/4FyxwxECzL-U1J8.png\" width=\"67\"/>,\n",
       " <img alt=\"Rush Hour\" class=\"loadlate\" data-tconst=\"tt0120812\" height=\"98\" loadlate=\"https://m.media-amazon.com/images/M/MV5BYWM2NDZmYmYtNzlmZC00M2MyLWJmOGUtMjhiYmQ2OGU1YTE1L2ltYWdlL2ltYWdlXkEyXkFqcGdeQXVyMTQxNzMzNDI@._V1_UX67_CR0,0,67,98_AL_.jpg\" src=\"https://m.media-amazon.com/images/S/sash/4FyxwxECzL-U1J8.png\" width=\"67\"/>]"
      ]
     },
     "execution_count": 6,
     "metadata": {},
     "output_type": "execute_result"
    }
   ],
   "source": [
    "images = soup.findAll('img')\n",
    "print(type(images))\n",
    "images"
   ]
  },
  {
   "cell_type": "code",
   "execution_count": null,
   "id": "7a7c5aef",
   "metadata": {},
   "outputs": [],
   "source": []
  }
 ],
 "metadata": {
  "kernelspec": {
   "display_name": "Python 3 (ipykernel)",
   "language": "python",
   "name": "python3"
  },
  "language_info": {
   "codemirror_mode": {
    "name": "ipython",
    "version": 3
   },
   "file_extension": ".py",
   "mimetype": "text/x-python",
   "name": "python",
   "nbconvert_exporter": "python",
   "pygments_lexer": "ipython3",
   "version": "3.9.13"
  }
 },
 "nbformat": 4,
 "nbformat_minor": 5
}
